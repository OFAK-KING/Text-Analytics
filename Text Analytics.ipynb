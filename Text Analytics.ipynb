{
 "cells": [
  {
   "cell_type": "code",
   "execution_count": 1,
   "metadata": {},
   "outputs": [],
   "source": [
    "import numpy as np\n",
    "import pandas as pd\n",
    "import seaborn as sns\n",
    "import matplotlib.pyplot as plt\n",
    "from nltk.tokenize import sent_tokenize\n",
    "import nltk\n",
    "import re\n",
    "from nltk.corpus import stopwords\n",
    "from nltk.stem import WordNetLemmatizer\n",
    "%matplotlib inline"
   ]
  },
  {
   "cell_type": "markdown",
   "metadata": {},
   "source": [
    "### Text Analytics"
   ]
  },
  {
   "cell_type": "code",
   "execution_count": 95,
   "metadata": {},
   "outputs": [],
   "source": [
    "df = \"The University of North Carolina at Charlotte (UNC Charlotte, UNCC, or simply Charlotte[6]) is a public research university in Charlotte, North Carolina. UNC $Charlotte offers 23 doctoral#, 64 master's, and 140 bachelor's degree programs through nine colleges: the College of Arts + Architecture, the College of Liberal Arts & Sciences, the Belk College of Business, the College of Computing and Informatics, the Cato College of Education, the** William States Lee College of Engineering, the College of Health and Human Services, the Honors College, and the Unive&rsity College.[7] It has three\\\\\\\\ campuses: Charlotte Research Institute Campus, Center City Campus, and the main campus, located in University City. The main campus sits on 1,000 wooded acres with approximately 85 buildings about 8 miles (13 km) from Uptown Charlotte.[8] UNC Charlotte is the largest institution of higher education in the Charlotte region. The university has experienced rapid enrollment growth of 33% over the past 10 years, [[[[making it the fastest-growing institution in the UNC System and contributing to more than 50% of the…. system's growth since 2009.[9]\""
   ]
  },
  {
   "cell_type": "code",
   "execution_count": 96,
   "metadata": {},
   "outputs": [
    {
     "data": {
      "text/plain": [
       "\"The University of North Carolina at Charlotte (UNC Charlotte, UNCC, or simply Charlotte[6]) is a public research university in Charlotte, North Carolina. UNC $Charlotte offers 23 doctoral#, 64 master's, and 140 bachelor's degree programs through nine colleges: the College of Arts + Architecture, the College of Liberal Arts & Sciences, the Belk College of Business, the College of Computing and Informatics, the Cato College of Education, the** William States Lee College of Engineering, the College of Health and Human Services, the Honors College, and the Unive&rsity College.[7] It has three\\\\\\\\ campuses: Charlotte Research Institute Campus, Center City Campus, and the main campus, located in University City. The main campus sits on 1,000 wooded acres with approximately 85 buildings about 8 miles (13 km) from Uptown Charlotte.[8] UNC Charlotte is the largest institution of higher education in the Charlotte region. The university has experienced rapid enrollment growth of 33% over the past 10 years, [[[[making it the fastest-growing institution in the UNC System and contributing to more than 50% of the…. system's growth since 2009.[9]\""
      ]
     },
     "execution_count": 96,
     "metadata": {},
     "output_type": "execute_result"
    }
   ],
   "source": [
    "df"
   ]
  },
  {
   "cell_type": "code",
   "execution_count": 97,
   "metadata": {},
   "outputs": [],
   "source": [
    "df = re.sub(r'[()?#&*!]+|\\\\|\\/','',df)"
   ]
  },
  {
   "cell_type": "code",
   "execution_count": 98,
   "metadata": {},
   "outputs": [
    {
     "data": {
      "text/plain": [
       "\"The University of North Carolina at Charlotte UNC Charlotte, UNCC, or simply Charlotte[6] is a public research university in Charlotte, North Carolina. UNC $Charlotte offers 23 doctoral, 64 master's, and 140 bachelor's degree programs through nine colleges: the College of Arts + Architecture, the College of Liberal Arts  Sciences, the Belk College of Business, the College of Computing and Informatics, the Cato College of Education, the William States Lee College of Engineering, the College of Health and Human Services, the Honors College, and the University College.[7] It has three campuses: Charlotte Research Institute Campus, Center City Campus, and the main campus, located in University City. The main campus sits on 1,000 wooded acres with approximately 85 buildings about 8 miles 13 km from Uptown Charlotte.[8] UNC Charlotte is the largest institution of higher education in the Charlotte region. The university has experienced rapid enrollment growth of 33% over the past 10 years, [[[[making it the fastest-growing institution in the UNC System and contributing to more than 50% of the…. system's growth since 2009.[9]\""
      ]
     },
     "execution_count": 98,
     "metadata": {},
     "output_type": "execute_result"
    }
   ],
   "source": [
    "df"
   ]
  },
  {
   "cell_type": "code",
   "execution_count": 99,
   "metadata": {},
   "outputs": [],
   "source": [
    "df = re.sub(r'[\\s]+',' ',df)"
   ]
  },
  {
   "cell_type": "code",
   "execution_count": 100,
   "metadata": {},
   "outputs": [
    {
     "data": {
      "text/plain": [
       "\"The University of North Carolina at Charlotte UNC Charlotte, UNCC, or simply Charlotte[6] is a public research university in Charlotte, North Carolina. UNC $Charlotte offers 23 doctoral, 64 master's, and 140 bachelor's degree programs through nine colleges: the College of Arts + Architecture, the College of Liberal Arts Sciences, the Belk College of Business, the College of Computing and Informatics, the Cato College of Education, the William States Lee College of Engineering, the College of Health and Human Services, the Honors College, and the University College.[7] It has three campuses: Charlotte Research Institute Campus, Center City Campus, and the main campus, located in University City. The main campus sits on 1,000 wooded acres with approximately 85 buildings about 8 miles 13 km from Uptown Charlotte.[8] UNC Charlotte is the largest institution of higher education in the Charlotte region. The university has experienced rapid enrollment growth of 33% over the past 10 years, [[[[making it the fastest-growing institution in the UNC System and contributing to more than 50% of the…. system's growth since 2009.[9]\""
      ]
     },
     "execution_count": 100,
     "metadata": {},
     "output_type": "execute_result"
    }
   ],
   "source": [
    "df"
   ]
  },
  {
   "cell_type": "markdown",
   "metadata": {},
   "source": [
    "#### Sentence Segmentation"
   ]
  },
  {
   "cell_type": "code",
   "execution_count": 101,
   "metadata": {},
   "outputs": [
    {
     "data": {
      "text/plain": [
       "['The University of North Carolina at Charlotte UNC Charlotte, UNCC, or simply Charlotte[6] is a public research university in Charlotte, North Carolina',\n",
       " \" UNC $Charlotte offers 23 doctoral, 64 master's, and 140 bachelor's degree programs through nine colleges: the College of Arts + Architecture, the College of Liberal Arts Sciences, the Belk College of Business, the College of Computing and Informatics, the Cato College of Education, the William States Lee College of Engineering, the College of Health and Human Services, the Honors College, and the University College\",\n",
       " '[7] It has three campuses: Charlotte Research Institute Campus, Center City Campus, and the main campus, located in University City',\n",
       " ' The main campus sits on 1,000 wooded acres with approximately 85 buildings about 8 miles 13 km from Uptown Charlotte',\n",
       " '[8] UNC Charlotte is the largest institution of higher education in the Charlotte region',\n",
       " ' The university has experienced rapid enrollment growth of 33% over the past 10 years, [[[[making it the fastest-growing institution in the UNC System and contributing to more than 50% of the…',\n",
       " \" system's growth since 2009\",\n",
       " '[9]']"
      ]
     },
     "execution_count": 101,
     "metadata": {},
     "output_type": "execute_result"
    }
   ],
   "source": [
    "df.split('.')"
   ]
  },
  {
   "cell_type": "code",
   "execution_count": 102,
   "metadata": {},
   "outputs": [],
   "source": [
    "df = nltk.sent_tokenize(df)"
   ]
  },
  {
   "cell_type": "code",
   "execution_count": 103,
   "metadata": {},
   "outputs": [
    {
     "data": {
      "text/plain": [
       "['The University of North Carolina at Charlotte UNC Charlotte, UNCC, or simply Charlotte[6] is a public research university in Charlotte, North Carolina.',\n",
       " \"UNC $Charlotte offers 23 doctoral, 64 master's, and 140 bachelor's degree programs through nine colleges: the College of Arts + Architecture, the College of Liberal Arts Sciences, the Belk College of Business, the College of Computing and Informatics, the Cato College of Education, the William States Lee College of Engineering, the College of Health and Human Services, the Honors College, and the University College.\",\n",
       " '[7] It has three campuses: Charlotte Research Institute Campus, Center City Campus, and the main campus, located in University City.',\n",
       " 'The main campus sits on 1,000 wooded acres with approximately 85 buildings about 8 miles 13 km from Uptown Charlotte.',\n",
       " '[8] UNC Charlotte is the largest institution of higher education in the Charlotte region.']"
      ]
     },
     "execution_count": 103,
     "metadata": {},
     "output_type": "execute_result"
    }
   ],
   "source": [
    "df[0:5]"
   ]
  },
  {
   "cell_type": "code",
   "execution_count": 104,
   "metadata": {},
   "outputs": [
    {
     "data": {
      "text/plain": [
       "8"
      ]
     },
     "execution_count": 104,
     "metadata": {},
     "output_type": "execute_result"
    }
   ],
   "source": [
    "len(df)"
   ]
  },
  {
   "cell_type": "markdown",
   "metadata": {},
   "source": [
    "### 3: Word Tokenization"
   ]
  },
  {
   "cell_type": "code",
   "execution_count": 105,
   "metadata": {},
   "outputs": [],
   "source": [
    "tokenized_sentences = []\n",
    "for sentence in df:\n",
    "    tokenized_sentences.append(nltk.word_tokenize(sentence))"
   ]
  },
  {
   "cell_type": "code",
   "execution_count": 106,
   "metadata": {},
   "outputs": [
    {
     "data": {
      "text/plain": [
       "['The',\n",
       " 'University',\n",
       " 'of',\n",
       " 'North',\n",
       " 'Carolina',\n",
       " 'at',\n",
       " 'Charlotte',\n",
       " 'UNC',\n",
       " 'Charlotte',\n",
       " ',',\n",
       " 'UNCC',\n",
       " ',',\n",
       " 'or',\n",
       " 'simply',\n",
       " 'Charlotte',\n",
       " '[',\n",
       " '6',\n",
       " ']',\n",
       " 'is',\n",
       " 'a',\n",
       " 'public',\n",
       " 'research',\n",
       " 'university',\n",
       " 'in',\n",
       " 'Charlotte',\n",
       " ',',\n",
       " 'North',\n",
       " 'Carolina',\n",
       " '.']"
      ]
     },
     "execution_count": 106,
     "metadata": {},
     "output_type": "execute_result"
    }
   ],
   "source": [
    "tokenized_sentences[0]"
   ]
  },
  {
   "cell_type": "markdown",
   "metadata": {},
   "source": [
    "### Parts of Speech Tagging"
   ]
  },
  {
   "cell_type": "code",
   "execution_count": 107,
   "metadata": {},
   "outputs": [
    {
     "data": {
      "text/plain": [
       "[('UNCC', 'NNP'), ('Campus', 'NNP')]"
      ]
     },
     "execution_count": 107,
     "metadata": {},
     "output_type": "execute_result"
    }
   ],
   "source": [
    "nltk.pos_tag(nltk.word_tokenize('UNCC Campus'))"
   ]
  },
  {
   "cell_type": "code",
   "execution_count": 108,
   "metadata": {},
   "outputs": [
    {
     "data": {
      "text/plain": [
       "[('The', 'DT'),\n",
       " ('main', 'JJ'),\n",
       " ('campus', 'NN'),\n",
       " ('sits', 'NNS'),\n",
       " ('on', 'IN'),\n",
       " ('1,000', 'CD'),\n",
       " ('wooded', 'VBD'),\n",
       " ('acres', 'NNS'),\n",
       " ('with', 'IN'),\n",
       " ('approximately', 'RB'),\n",
       " ('85', 'CD'),\n",
       " ('buildings', 'NNS'),\n",
       " ('about', 'IN'),\n",
       " ('8', 'CD'),\n",
       " ('miles', 'NNS'),\n",
       " ('13', 'CD'),\n",
       " ('km', 'NN'),\n",
       " ('from', 'IN'),\n",
       " ('Uptown', 'NNP'),\n",
       " ('Charlotte', 'NNP'),\n",
       " ('.', '.')]"
      ]
     },
     "execution_count": 108,
     "metadata": {},
     "output_type": "execute_result"
    }
   ],
   "source": [
    "nltk.pos_tag(tokenized_sentences[3])"
   ]
  },
  {
   "cell_type": "markdown",
   "metadata": {},
   "source": [
    "#### Lemmatization"
   ]
  },
  {
   "cell_type": "code",
   "execution_count": 117,
   "metadata": {},
   "outputs": [],
   "source": [
    "lemmatized_sentence =[]\n",
    "for sentence in tokenized_sentences:\n",
    "    temp = []\n",
    "    for word in sentence:\n",
    "        temp.append(wordnet.lemmatize(word))\n",
    "        temp.append(\" \")\n",
    "    \n",
    "    lemmatized_sentence.append(''.join(temp))"
   ]
  },
  {
   "cell_type": "markdown",
   "metadata": {},
   "source": [
    "#### Stop Words Removal "
   ]
  },
  {
   "cell_type": "code",
   "execution_count": 118,
   "metadata": {},
   "outputs": [],
   "source": [
    "stopwords_removed = []\n",
    "for sentence in lemmatized_sentence:\n",
    "    sentence = sentence.split()\n",
    "    temp = []\n",
    "    for word in sentence:\n",
    "        \n",
    "        if word not in stopwords.words():\n",
    "            temp.append(word)\n",
    "           \n",
    "    stopwords_removed.append(' '.join(temp))"
   ]
  },
  {
   "cell_type": "code",
   "execution_count": 119,
   "metadata": {},
   "outputs": [
    {
     "data": {
      "text/plain": [
       "['The University North Carolina Charlotte UNC Charlotte , UNCC , simply Charlotte [ 6 ] public research university Charlotte , North Carolina .',\n",
       " \"UNC $ Charlotte offer 23 doctoral , 64 master 's , 140 bachelor 's degree program nine college : College Arts + Architecture , College Liberal Arts Sciences , Belk College Business , College Computing Informatics , Cato College Education , William States Lee College Engineering , College Health Human Services , Honors College , University College .\",\n",
       " '[ 7 ] It three campus : Charlotte Research Institute Campus , Center City Campus , main campus , located University City .',\n",
       " 'The main campus sits 1,000 wooded acre approximately 85 building 8 mile 13 km Uptown Charlotte .',\n",
       " '[ 8 ] UNC Charlotte largest institution higher education Charlotte region .',\n",
       " 'The university experienced rapid enrollment growth 33 % past 10 year , [ [ [ [ making fastest-growing institution UNC System contributing 50 % the… .',\n",
       " \"system 's growth since 2009 .\",\n",
       " '[ 9 ]']"
      ]
     },
     "execution_count": 119,
     "metadata": {},
     "output_type": "execute_result"
    }
   ],
   "source": [
    "stopwords_removed"
   ]
  }
 ],
 "metadata": {
  "kernelspec": {
   "display_name": "Python 3",
   "language": "python",
   "name": "python3"
  },
  "language_info": {
   "codemirror_mode": {
    "name": "ipython",
    "version": 3
   },
   "file_extension": ".py",
   "mimetype": "text/x-python",
   "name": "python",
   "nbconvert_exporter": "python",
   "pygments_lexer": "ipython3",
   "version": "3.7.5"
  }
 },
 "nbformat": 4,
 "nbformat_minor": 4
}
